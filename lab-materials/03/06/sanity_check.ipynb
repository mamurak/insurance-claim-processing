{
 "cells": [
  {
   "cell_type": "markdown",
   "id": "3a6cf742-9f59-480e-a9ca-1e32774cd316",
   "metadata": {},
   "source": [
    "# Sanity checks"
   ]
  },
  {
   "cell_type": "code",
   "execution_count": null,
   "id": "b948b2ff-5dc9-4a83-9d39-e949bb7e1d7d",
   "metadata": {
    "tags": []
   },
   "outputs": [],
   "source": [
    "from summarize_results import summarize_results\n",
    "from test_response_quality import test_response_quality\n",
    "from test_responsetime import test_responsetime"
   ]
  },
  {
   "cell_type": "markdown",
   "id": "f815aadf-2d8c-41c2-9983-3238f4f126fa",
   "metadata": {},
   "source": [
    "Set inference URL"
   ]
  },
  {
   "cell_type": "code",
   "execution_count": null,
   "id": "93c7181d-daef-4951-a85e-a2841e41964c",
   "metadata": {
    "tags": []
   },
   "outputs": [],
   "source": [
    "llm_inference_url = 'REPLACE_ME'"
   ]
  },
  {
   "cell_type": "markdown",
   "id": "1c46bd45-eee5-47bb-a884-b9574275fc24",
   "metadata": {},
   "source": [
    "Run latency test"
   ]
  },
  {
   "cell_type": "code",
   "execution_count": null,
   "id": "3cf54d97-f346-412b-a981-da78bd5855c8",
   "metadata": {
    "tags": []
   },
   "outputs": [],
   "source": [
    "test_responsetime(llm_inference_url)"
   ]
  },
  {
   "cell_type": "markdown",
   "id": "7283233a-23c8-4299-83fc-03d2b2fbffa5",
   "metadata": {},
   "source": [
    "Run quality test"
   ]
  },
  {
   "cell_type": "code",
   "execution_count": null,
   "id": "1ff59f81-abab-4d0a-a2fc-5ca74e2d23ee",
   "metadata": {
    "tags": []
   },
   "outputs": [],
   "source": [
    "test_response_quality(llm_inference_url)"
   ]
  },
  {
   "cell_type": "markdown",
   "id": "4c87275b-c022-495d-a500-3b479f1e67f0",
   "metadata": {},
   "source": [
    "Test summary"
   ]
  },
  {
   "cell_type": "code",
   "execution_count": null,
   "id": "5435317b-b9ee-4df7-af9c-672067f8a03f",
   "metadata": {
    "tags": []
   },
   "outputs": [],
   "source": [
    "summarize_results()"
   ]
  },
  {
   "cell_type": "code",
   "execution_count": null,
   "id": "a94f3641-c9f0-4a37-86a8-c125cc3fa615",
   "metadata": {},
   "outputs": [],
   "source": []
  }
 ],
 "metadata": {
  "kernelspec": {
   "display_name": "Python 3.9",
   "language": "python",
   "name": "python3"
  },
  "language_info": {
   "codemirror_mode": {
    "name": "ipython",
    "version": 3
   },
   "file_extension": ".py",
   "mimetype": "text/x-python",
   "name": "python",
   "nbconvert_exporter": "python",
   "pygments_lexer": "ipython3",
   "version": "3.9.18"
  }
 },
 "nbformat": 4,
 "nbformat_minor": 5
}
