{
 "cells": [
  {
   "cell_type": "markdown",
   "id": "adbf4e6c-9ae3-4940-8002-bf6758d9ea67",
   "metadata": {},
   "source": [
    "# Model training workflow"
   ]
  },
  {
   "cell_type": "code",
   "execution_count": null,
   "id": "00fd2e57-2602-451c-b536-efcd93673dd3",
   "metadata": {},
   "outputs": [],
   "source": [
    "from data_ingestion import ingest_data\n",
    "from model_training import train_model\n",
    "from model_conversion import convert_model\n",
    "from model_upload import upload_model"
   ]
  },
  {
   "cell_type": "markdown",
   "id": "7f75e9f0-fe90-41ed-9045-aa796bb87a50",
   "metadata": {},
   "source": [
    "Data ingestion"
   ]
  },
  {
   "cell_type": "code",
   "execution_count": null,
   "id": "11d57eb7-7018-48f5-b40d-ecdda8a8febc",
   "metadata": {
    "tags": []
   },
   "outputs": [],
   "source": [
    "ingest_data()"
   ]
  },
  {
   "cell_type": "markdown",
   "id": "8f33d6c7-f7e5-4730-9c49-4faacb610cd7",
   "metadata": {},
   "source": [
    "Model training"
   ]
  },
  {
   "cell_type": "code",
   "execution_count": null,
   "id": "aadb625c-d35b-4554-bc32-bb3177ff5394",
   "metadata": {
    "tags": []
   },
   "outputs": [],
   "source": [
    "train_model()"
   ]
  },
  {
   "cell_type": "markdown",
   "id": "fcb94bb2-ae67-4d74-85f1-928d8e036cce",
   "metadata": {},
   "source": [
    "Model conversion"
   ]
  },
  {
   "cell_type": "code",
   "execution_count": null,
   "id": "3d050193-2e99-474e-ba10-81f8925a1d83",
   "metadata": {
    "tags": []
   },
   "outputs": [],
   "source": [
    "convert_model()"
   ]
  },
  {
   "cell_type": "markdown",
   "id": "bd9b1fe5-66a2-4a78-acee-2b0c3211f266",
   "metadata": {},
   "source": [
    "Model upload"
   ]
  },
  {
   "cell_type": "code",
   "execution_count": null,
   "id": "05b7291b-0f58-4def-9f69-2f524ffd62ec",
   "metadata": {},
   "outputs": [],
   "source": [
    "upload_model()"
   ]
  },
  {
   "cell_type": "code",
   "execution_count": null,
   "id": "8cd7de65-dd66-4768-98fd-ad478d849b32",
   "metadata": {},
   "outputs": [],
   "source": []
  }
 ],
 "metadata": {
  "kernelspec": {
   "display_name": "Python 3.11",
   "language": "python",
   "name": "python3"
  },
  "language_info": {
   "codemirror_mode": {
    "name": "ipython",
    "version": 3
   },
   "file_extension": ".py",
   "mimetype": "text/x-python",
   "name": "python",
   "nbconvert_exporter": "python",
   "pygments_lexer": "ipython3",
   "version": "3.11.5"
  }
 },
 "nbformat": 4,
 "nbformat_minor": 5
}
