{
 "cells": [
  {
   "cell_type": "markdown",
   "id": "508be7fd-7c1d-46b1-945d-d0da8ed19c82",
   "metadata": {},
   "source": [
    "# Overview of approach used for detecting car crashes\n",
    "\n",
    "We have been tasked with developing an application which can identify if an insurance claim contains a car accident displayed in a static image. If an accident is detected, the claim is forwarded to the correct claims processing department.  Let's start by learning how to use a YOLO model.  \n",
    "\n",
    "Note:  YOLO stands for <I> 'You Only Look Once'.</I>\n",
    "\n",
    "In this notebook we use a pre-trained machine learning model, YOLOv8m and explore how it works on static images. If it can detect a car then we can retrain the model to detect car accidents.  \n",
    "\n",
    "To begin, we will install the ultralytics package for YOLO models and import some python packages:"
   ]
  },
  {
   "cell_type": "code",
   "execution_count": null,
   "id": "952e0a5e-e038-46bc-b7a2-16ca7ec64af5",
   "metadata": {
    "tags": []
   },
   "outputs": [],
   "source": [
    "from PIL import Image\n",
    "from ultralytics import YOLO"
   ]
  },
  {
   "cell_type": "markdown",
   "id": "43594d05-f91e-4733-9e5b-3b160760f4bc",
   "metadata": {},
   "source": [
    "We are going to use the YOLOv8m model for object detection"
   ]
  },
  {
   "cell_type": "code",
   "execution_count": null,
   "id": "ff63f26e-1a19-4409-ad99-d0abb45d74aa",
   "metadata": {
    "tags": []
   },
   "outputs": [],
   "source": [
    "model = YOLO('yolov8m.pt')"
   ]
  },
  {
   "cell_type": "markdown",
   "id": "33c3d64c-28f5-4819-af62-aace4513db26",
   "metadata": {},
   "source": [
    "Display the image we wish to test"
   ]
  },
  {
   "cell_type": "code",
   "execution_count": null,
   "id": "568460ea-b6b2-48b6-87fb-2a7d2f8091e0",
   "metadata": {
    "tags": []
   },
   "outputs": [],
   "source": [
    "Image.open(\"images/carImage0.jpg\")"
   ]
  },
  {
   "cell_type": "markdown",
   "id": "5bda74d8-1a6f-44b9-856f-29b3a92add4a",
   "metadata": {},
   "source": [
    "Test that the YOLO model can identify a car object in the given photo"
   ]
  },
  {
   "cell_type": "code",
   "execution_count": null,
   "id": "c4c129c0-e309-45e3-b094-ee4ee999dd7d",
   "metadata": {
    "tags": []
   },
   "outputs": [],
   "source": [
    "results = model.predict(\"images/carImage0.jpg\")"
   ]
  },
  {
   "cell_type": "markdown",
   "id": "86e1bd1b-123c-4fac-ab18-da40323cc97e",
   "metadata": {},
   "source": [
    "We see that YOLO has determined that there is '1 car' in the provided photo.  This is great news for us.  We can test out a few more photos to make certain YOLO is detecting car objects.  Then we can write some code to draw boxes around the car YOLO detected for us.\n",
    "\n",
    "List all the images in our <images> folder. We can then pick one of those images for our tests."
   ]
  },
  {
   "cell_type": "code",
   "execution_count": null,
   "id": "c00d4d9a-7b03-479a-9995-f0a0cddbf1e1",
   "metadata": {
    "tags": []
   },
   "outputs": [],
   "source": [
    "!ls -al images"
   ]
  },
  {
   "cell_type": "markdown",
   "id": "1e18b98f-641d-4cc7-bb5e-cb0e67df231e",
   "metadata": {},
   "source": [
    "Choose a car image,  eg <carImage4.jpg>, and see if yolo can determine if the image contains an automobile."
   ]
  },
  {
   "cell_type": "code",
   "execution_count": null,
   "id": "1c920270-62a0-41be-a8e3-0ccf57771fcc",
   "metadata": {
    "tags": []
   },
   "outputs": [],
   "source": [
    "img = Image.open('images/carImage4.jpg')\n",
    "img_resized = img.resize((500, 300))\n",
    "display(img_resized)"
   ]
  },
  {
   "cell_type": "markdown",
   "id": "ac0d0537-3ff9-413f-9610-7eb6ea3434eb",
   "metadata": {},
   "source": [
    "Obtain the results for the model prediction"
   ]
  },
  {
   "cell_type": "code",
   "execution_count": null,
   "id": "26771df8-1e76-4aee-893d-1200b9871fff",
   "metadata": {
    "tags": []
   },
   "outputs": [],
   "source": [
    "results = model.predict(img)"
   ]
  },
  {
   "cell_type": "markdown",
   "id": "24a0c24c-9847-4ab0-a242-ca236fffda3e",
   "metadata": {},
   "source": [
    "If we look at the results for <carImage4.jpg>, we see that yolo has determined that there are 17 cars and 1 truck.  This result is interesting.  We have confirmed that the yolo model can identify multiple 'cars' in an image that contains multiple vehicles.\n",
    "\n",
    "However, with so many vehicles displayed in the image, it may now be difficult for us, 'the humans', to accurately count all of the vehicles!\n",
    "\n",
    "Therefore let's write some code that will draw boxes around the cars that the yolo model identifies within an image.\n",
    "\n",
    "**Please open the notebook `04-02-car-recog.ipynb`**."
   ]
  }
 ],
 "metadata": {
  "kernelspec": {
   "display_name": "Python 3.11",
   "language": "python",
   "name": "python3"
  },
  "language_info": {
   "codemirror_mode": {
    "name": "ipython",
    "version": 3
   },
   "file_extension": ".py",
   "mimetype": "text/x-python",
   "name": "python",
   "nbconvert_exporter": "python",
   "pygments_lexer": "ipython3",
   "version": "3.11.5"
  }
 },
 "nbformat": 4,
 "nbformat_minor": 5
}
