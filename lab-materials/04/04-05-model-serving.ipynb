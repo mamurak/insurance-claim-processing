{
 "cells": [
  {
   "cell_type": "code",
   "execution_count": null,
   "id": "930247ab-2e10-4db4-888c-517ca3a4cec8",
   "metadata": {
    "tags": []
   },
   "outputs": [],
   "source": [
    "import cv2\n",
    "from matplotlib import pyplot as plt\n",
    "from remote_infer import process_image"
   ]
  },
  {
   "cell_type": "markdown",
   "id": "e4f4dada-51a8-4f06-9618-0f2deda72bee",
   "metadata": {
    "tags": []
   },
   "source": [
    "# Model Serving \n",
    "\n",
    "In notebook '04-04-accident-recognition' we were able to use the retrained model to predict a 'severe' or 'moderate' car accident within an image.  \n",
    "\n",
    "Now we will determine if we can query the model directly from the model server we have created.  This will be done through an API call.\n",
    "\n",
    "**Important**: First, enter the inference endpoint URL you got after deploying the model server."
   ]
  },
  {
   "cell_type": "code",
   "execution_count": null,
   "id": "e38338ba-d858-4096-92a1-284d35679005",
   "metadata": {
    "tags": []
   },
   "outputs": [],
   "source": [
    "deployed_model_name = \"accident-detection\"\n",
    "infer_endpoint = \"REPLACE_ME\"\n",
    "infer_url = f\"{infer_endpoint}/v2/models/{deployed_model_name}/infer\""
   ]
  },
  {
   "cell_type": "markdown",
   "id": "cdda7fd4-dadf-44b2-9147-35835ddf5140",
   "metadata": {},
   "source": [
    "The image you want to analyze. You can replace this with an image you upload."
   ]
  },
  {
   "cell_type": "code",
   "execution_count": null,
   "id": "31725659-710d-4fdc-b195-4d56b299f419",
   "metadata": {
    "tags": []
   },
   "outputs": [],
   "source": [
    "image_path = 'images/carImage3.jpg'"
   ]
  },
  {
   "cell_type": "markdown",
   "id": "326d21db-0f7b-4f89-86bd-84f4c04b7c44",
   "metadata": {},
   "source": [
    "Launch the inference and show the result."
   ]
  },
  {
   "cell_type": "code",
   "execution_count": null,
   "id": "c15e0ccd-5c65-4dc7-80bc-2e583223ac59",
   "metadata": {
    "tags": []
   },
   "outputs": [],
   "source": [
    "img = process_image(image_path, infer_url)\n",
    "img = cv2.cvtColor(img, cv2.COLOR_BGR2RGB)\n",
    "fig = plt.gcf()\n",
    "fig.set_size_inches(6, 3)\n",
    "plt.axis('off')\n",
    "plt.imshow(img)"
   ]
  },
  {
   "cell_type": "code",
   "execution_count": null,
   "id": "6504afab-90da-4381-a3e0-d3c7382321fd",
   "metadata": {},
   "outputs": [],
   "source": []
  }
 ],
 "metadata": {
  "kernelspec": {
   "display_name": "Python 3.11",
   "language": "python",
   "name": "python3"
  },
  "language_info": {
   "codemirror_mode": {
    "name": "ipython",
    "version": 3
   },
   "file_extension": ".py",
   "mimetype": "text/x-python",
   "name": "python",
   "nbconvert_exporter": "python",
   "pygments_lexer": "ipython3",
   "version": "3.11.5"
  }
 },
 "nbformat": 4,
 "nbformat_minor": 5
}
