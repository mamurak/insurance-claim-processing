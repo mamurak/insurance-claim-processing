{
 "cells": [
  {
   "cell_type": "markdown",
   "metadata": {
    "tags": []
   },
   "source": [
    "# Define functions"
   ]
  },
  {
   "cell_type": "code",
   "execution_count": null,
   "metadata": {
    "tags": []
   },
   "outputs": [],
   "source": [
    "from socket import create_connection, gaierror, timeout\n",
    "\n",
    "\n",
    "def check_service_connection(host, port, name):\n",
    "    try:\n",
    "        s = create_connection((host, port), timeout=5)\n",
    "        s.close()\n",
    "        return True\n",
    "    except timeout:\n",
    "        return False\n",
    "    except ConnectionRefusedError:\n",
    "        return False\n",
    "    except gaierror as e:\n",
    "        return f\"Error: {name} - {e}\"\n",
    "\n",
    "\n",
    "def check_services(services):\n",
    "    for service in services:\n",
    "        host, port, name = service\n",
    "        result = check_service_connection(host, port, name)\n",
    "        if result is True:\n",
    "            print(f\"Success: {name} is reachable on {host}:{port}\")\n",
    "        elif result is False:\n",
    "            print(f\"Failure: {name} is NOT reachable on {host}:{port}\")\n",
    "        else:\n",
    "            print(result)"
   ]
  },
  {
   "cell_type": "markdown",
   "metadata": {
    "tags": []
   },
   "source": [
    "# Execute checks\n",
    "\n",
    "Confirm that services are reachable."
   ]
  },
  {
   "cell_type": "code",
   "execution_count": null,
   "metadata": {
    "tags": []
   },
   "outputs": [],
   "source": [
    "services_to_check = [\n",
    "    (\"minio-service\", 9000, \"Minio\"),\n",
    "    (\"claimdb\", 5432, \"Postgres Database\"),\n",
    "    (\"ic-app\", 5000, \"Insurance Claims App\"),\n",
    "    (\"ds-pipeline-pipelines-definition\", 8443, \"Pipeline Server\"),\n",
    "]\n",
    "\n",
    "check_services(services_to_check)"
   ]
  },
  {
   "cell_type": "code",
   "execution_count": null,
   "metadata": {},
   "outputs": [],
   "source": []
  }
 ],
 "metadata": {
  "kernelspec": {
   "display_name": "Python 3.9",
   "language": "python",
   "name": "python3"
  },
  "language_info": {
   "codemirror_mode": {
    "name": "ipython",
    "version": 3
   },
   "file_extension": ".py",
   "mimetype": "text/x-python",
   "name": "python",
   "nbconvert_exporter": "python",
   "pygments_lexer": "ipython3",
   "version": "3.9.18"
  }
 },
 "nbformat": 4,
 "nbformat_minor": 4
}
